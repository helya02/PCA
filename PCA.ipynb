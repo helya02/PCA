{
  "nbformat": 4,
  "nbformat_minor": 0,
  "metadata": {
    "colab": {
      "provenance": [],
      "authorship_tag": "ABX9TyN0Fg7B4gvd5uFfh+12rypq",
      "include_colab_link": true
    },
    "kernelspec": {
      "name": "python3",
      "display_name": "Python 3"
    },
    "language_info": {
      "name": "python"
    }
  },
  "cells": [
    {
      "cell_type": "markdown",
      "metadata": {
        "id": "view-in-github",
        "colab_type": "text"
      },
      "source": [
        "<a href=\"https://colab.research.google.com/github/helya02/PCA/blob/main/PCA.ipynb\" target=\"_parent\"><img src=\"https://colab.research.google.com/assets/colab-badge.svg\" alt=\"Open In Colab\"/></a>"
      ]
    },
    {
      "cell_type": "code",
      "execution_count": null,
      "metadata": {
        "id": "Xu11fM4IwlLc"
      },
      "outputs": [],
      "source": [
        "import numpy as np\n",
        "import pandas as pd\n",
        "import matplotlib.pyplot as plt\n"
      ]
    },
    {
      "cell_type": "code",
      "source": [
        "def data_mean(data):\n",
        "  sum = data.sum(axis = 0)\n",
        "  num = data.shape[1]\n",
        "  return  sum / num\n",
        "\n",
        "\n"
      ],
      "metadata": {
        "id": "wCP3AZ4QxrFA"
      },
      "execution_count": null,
      "outputs": []
    },
    {
      "cell_type": "code",
      "source": [
        "def mean_deviation_matrix(data):\n",
        "\n",
        "  return data - data_mean(data)\n",
        "\n"
      ],
      "metadata": {
        "id": "jtMG22TQ03g4"
      },
      "execution_count": null,
      "outputs": []
    },
    {
      "cell_type": "code",
      "source": [
        "def cov_matrix(data):\n",
        "  X_meaned =mean_deviation_matrix(data)\n",
        "  cov_mat = np.cov(X_meaned , rowvar = False)\n",
        "  return cov_mat\n",
        "\n"
      ],
      "metadata": {
        "id": "VCMAMDbK2hrs"
      },
      "execution_count": null,
      "outputs": []
    },
    {
      "cell_type": "code",
      "source": [
        "def eigen(covariance_matrix):\n",
        "          return np.linalg.eig(covariance_matrix)\n",
        "\n",
        "\n",
        "def PCA(matrix , n):\n",
        "  covariance_matrix  = cov_matrix(matrix)\n",
        "  eigenvalues, eigenvectors = eigen(covariance_matrix)\n",
        "\n",
        "  eig_pairs = [(np.abs(np.array(eigenvalues[i])), np.array(eigenvectors[:,i])) for i in range(len(eigenvalues))]\n",
        "  sorted_ = sorted(eig_pairs, reverse = True)\n",
        "\n",
        "  W = []\n",
        "\n",
        "  for i in range(n):\n",
        "    W.append(sorted_[i][1].reshape((len(eigenvectors),1)))\n",
        "\n",
        "  X_meaned = mean_deviation_matrix(matrix)\n",
        "\n",
        "  matrix_w = np.hstack(W[::])\n",
        "\n",
        "  print(matrix_w)\n",
        "\n",
        "  X_reduced = np.dot(matrix_w.transpose() , X_meaned.transpose() ).transpose()\n",
        "\n",
        "  return X_reduced\n",
        "\n"
      ],
      "metadata": {
        "id": "lZN3p-Vq0__9"
      },
      "execution_count": null,
      "outputs": []
    },
    {
      "cell_type": "code",
      "source": [
        "dataset = pd.read_csv(\"iris.csv\")\n",
        "\n",
        "features = np.array(dataset.drop(['variety'], axis = 1))\n",
        "\n",
        "\n",
        "pca = PCA(features,3)\n",
        "\n",
        "print(pca.shape)\n"
      ],
      "metadata": {
        "colab": {
          "base_uri": "https://localhost:8080/"
        },
        "id": "DCsH8dk1RSJ3",
        "outputId": "67a1c1bf-7442-411b-a229-98afc446a1d2"
      },
      "execution_count": null,
      "outputs": [
        {
          "output_type": "stream",
          "name": "stdout",
          "text": [
            "[[ 0.36138659 -0.65658877 -0.58202985]\n",
            " [-0.08452251 -0.73016143  0.59791083]\n",
            " [ 0.85667061  0.17337266  0.07623608]\n",
            " [ 0.3582892   0.07548102  0.54583143]]\n",
            "(150, 3)\n"
          ]
        }
      ]
    }
  ]
}